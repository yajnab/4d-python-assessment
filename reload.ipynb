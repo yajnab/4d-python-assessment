{
 "cells": [
  {
   "cell_type": "markdown",
   "metadata": {},
   "source": [
    "# Reset\n",
    "\n",
    "This will reset the environment back to before running the ingestion. Be careful, if this deletes any needed data you may need to revert back to a previous commit."
   ]
  },
  {
   "cell_type": "code",
   "execution_count": 31,
   "metadata": {},
   "outputs": [],
   "source": [
    "import os\n",
    "import shutil"
   ]
  },
  {
   "cell_type": "code",
   "execution_count": 36,
   "metadata": {},
   "outputs": [],
   "source": [
    "# move all files to ./landing_zone\n",
    "for subfolder in os.listdir('./data/'):\n",
    "    for file in os.listdir(f'./data/{subfolder}'):\n",
    "        shutil.move(f'./data/{subfolder}/{file}', './landing_zone')\n",
    "        print(f'Moved {file} to landing_zone')\n",
    "\n",
    "# delete the watermark file and the data folder\n",
    "try:\n",
    "    os.remove('./watermark.parquet')\n",
    "    os.remove('./sales_report.csv')\n",
    "    os.remove('./sales_report_active_member.csv')\n",
    "except FileNotFoundError:\n",
    "    pass\n",
    "shutil.rmtree('./data', ignore_errors=True)\n",
    "shutil.rmtree('./final_data/', ignore_errors=True)\n",
    "shutil.rmtree('./error_reports/', ignore_errors=True)"
   ]
  }
 ],
 "metadata": {
  "kernelspec": {
   "display_name": ".venv",
   "language": "python",
   "name": "python3"
  },
  "language_info": {
   "codemirror_mode": {
    "name": "ipython",
    "version": 3
   },
   "file_extension": ".py",
   "mimetype": "text/x-python",
   "name": "python",
   "nbconvert_exporter": "python",
   "pygments_lexer": "ipython3",
   "version": "3.10.9"
  },
  "orig_nbformat": 4
 },
 "nbformat": 4,
 "nbformat_minor": 2
}
